{
 "cells": [
  {
   "cell_type": "code",
   "execution_count": 33,
   "metadata": {},
   "outputs": [
    {
     "name": "stdout",
     "output_type": "stream",
     "text": [
      "abdullah\n",
      "hassan\n",
      "16\n",
      "karachi\n",
      "\n",
      "\n",
      "First_Name : Abdullah\n",
      "Last_Name : Hassan\n",
      "Age : 16\n",
      "City : Karachi\n"
     ]
    }
   ],
   "source": [
    "#ASSIGNMENT\n",
    "#try it yourself 6-1\n",
    "\n",
    "person= {'first_name' : 'abdullah','last_name':'hassan','age':16,'city':'karachi'}\n",
    "print(person['first_name'])\n",
    "print(person['last_name'])\n",
    "print(person['age'])\n",
    "print(person['city'])\n",
    "\n",
    "# OR we can use loop\n",
    "\n",
    "print(\"\\n\")\n",
    "for key,value in person.items():\n",
    "    print(key.title()+ \" : \"+str(value).title())"
   ]
  },
  {
   "cell_type": "code",
   "execution_count": 34,
   "metadata": {},
   "outputs": [
    {
     "name": "stdout",
     "output_type": "stream",
     "text": [
      "Abdullah\n",
      "Abdullah's favorite number is 4\n",
      "Fahad\n",
      "Fahad's favorite number is 2\n",
      "Ahsan\n",
      "Ahsan's favorite number is 6\n",
      "Ahmed\n",
      "Ahmed's favorite number is 3\n",
      "Ali\n",
      "Ali's favorite number is 7\n"
     ]
    }
   ],
   "source": [
    "#try it yourself 6-2\n",
    "\n",
    "favorite_numbers = {'abdullah':4,'fahad':2,'ahsan':6,'ahmed':3,'ali':7}\n",
    "for key, value in favorite_numbers.items():\n",
    "    \n",
    "    print(key.title())\n",
    "    print(key.title()+\"'s favorite number is \"+ str(value))"
   ]
  },
  {
   "cell_type": "code",
   "execution_count": 35,
   "metadata": {},
   "outputs": [
    {
     "name": "stdout",
     "output_type": "stream",
     "text": [
      "\n",
      "String:\n",
      "series of characters\n",
      "\n",
      "Variable :\n",
      "store data\n",
      "\n",
      "Tuple :\n",
      "can not change\n",
      "\n",
      "List :\n",
      "can store diff datatypes\n",
      "\n",
      "Dictionary :\n",
      "store piece of info\n"
     ]
    }
   ],
   "source": [
    "#try it yourself 6-3\n",
    "\n",
    "glossary = {'string':'series of characters',\n",
    "            'variable':'store data',\n",
    "            'tuple':'can not change',\n",
    "            'list':'can store diff datatypes',\n",
    "            'dictionary':'store piece of info'\n",
    "           }\n",
    "\n",
    "value = 'string'\n",
    "print(\"\\n\"+value.title() + \":\\n\"+ glossary[value])\n",
    "value = 'variable'\n",
    "print(\"\\n\"+value.title() + \" :\\n\"+ glossary[value])\n",
    "value = 'tuple'\n",
    "print(\"\\n\"+value.title() + \" :\\n\"+ glossary[value])\n",
    "value = 'list'\n",
    "print(\"\\n\"+value.title() + \" :\\n\"+ glossary[value])\n",
    "value = 'dictionary'\n",
    "print(\"\\n\"+value.title() + \" :\\n\"+ glossary[value])\n"
   ]
  },
  {
   "cell_type": "code",
   "execution_count": 36,
   "metadata": {},
   "outputs": [
    {
     "name": "stdout",
     "output_type": "stream",
     "text": [
      "\n",
      "String : Series Of Characters\n",
      "\n",
      "Variable : Store Data\n",
      "\n",
      "Tuple : Can Not Change\n",
      "\n",
      "List : Can Store Diff Datatypes\n",
      "\n",
      "Dictionary : Store Pieces Of Info\n",
      "\n",
      "Function : A Block Of Code\n",
      "\n",
      "Print : Its A Func To Print\n",
      "\n",
      "If-Else : Selection Statement\n",
      "\n",
      "Loop : Repitiion Statement\n",
      "\n",
      "Replace : Function To Replace Values\n"
     ]
    }
   ],
   "source": [
    "#try it yourself 6-4\n",
    "# we can use loop here:\n",
    "\n",
    "glossary = {'string':'series of characters',\n",
    "            'variable':'store data',\n",
    "            'tuple':'can not change',\n",
    "            'list':'can store diff datatypes',\n",
    "            'dictionary':'store pieces of info',\n",
    "             'function':'a block of code',\n",
    "            'print':'its a func to print',\n",
    "            'if-else':'selection statement',\n",
    "            'loop':'repitiion statement',\n",
    "            'replace':'function to replace values'\n",
    "            }\n",
    "\n",
    "for word , meaning in glossary.items():\n",
    "    print(\"\\n\"+word.title()+ \" : \" +meaning.title())"
   ]
  },
  {
   "cell_type": "code",
   "execution_count": 38,
   "metadata": {},
   "outputs": [
    {
     "name": "stdout",
     "output_type": "stream",
     "text": [
      "The Nile flows through Egypt\n",
      "The River Indus flows through Pakistan\n",
      "The Chanab flows through Pakistan\n",
      "\n",
      "\n",
      "Nile\n",
      "River Indus\n",
      "Chanab\n",
      "\n",
      "\n",
      "Egypt\n",
      "Pakistan\n",
      "Pakistan\n"
     ]
    }
   ],
   "source": [
    "#try It yourself  6-5. Rivers: \n",
    "\n",
    "river = {'nile': 'egypt',\n",
    "         'river indus': 'pakistan',\n",
    "         'chanab' : 'pakistan'\n",
    "        }\n",
    "\n",
    "for key,value  in river.items():\n",
    "    print(\"The \"+key.title()+\" flows through \"+value.title())\n",
    "    \n",
    "print(\"\\n\")\n",
    "for key  in river.keys():\n",
    "    print(key.title())\n",
    "    \n",
    "print(\"\\n\")    \n",
    "for value  in river.values():\n",
    "    print(value.title())\n",
    "    "
   ]
  },
  {
   "cell_type": "code",
   "execution_count": 39,
   "metadata": {},
   "outputs": [
    {
     "name": "stdout",
     "output_type": "stream",
     "text": [
      "Thank you Nida for taking the poll.\n",
      "Thank you Meher for taking the poll.\n",
      "Sana please take a poll.\n",
      "Nisa please take a poll.\n"
     ]
    }
   ],
   "source": [
    "# try it yourself 6-6\n",
    "\n",
    "peoples = {'sara':'python', 'nida':'r','asma':'java','meher':'python'}\n",
    "friends = ['nida', 'meher','sana','nisa']\n",
    "\n",
    "for friend in friends:\n",
    "    if friend in peoples:\n",
    "        \n",
    "        print( \"Thank you \"+ friend.title() + \" for taking the poll.\")\n",
    "    else:\n",
    "         print(friend.title() +\" please take a poll.\")\n"
   ]
  },
  {
   "cell_type": "code",
   "execution_count": 40,
   "metadata": {},
   "outputs": [
    {
     "name": "stdout",
     "output_type": "stream",
     "text": [
      "{'first_name': 'abdullah', 'last_name': 'hassan', 'age': 16, 'city': 'karachi'}\n",
      "{'first_name': 'ali', 'last_name': 'hassain', 'age': 18, 'city': 'lahore'}\n",
      "{'first_name': 'hassam', 'last_name': 'wahid', 'age': 19, 'city': 'islamabad'}\n"
     ]
    }
   ],
   "source": [
    "# try it yourself 6-7\n",
    "\n",
    "person_1 = {'first_name' : 'abdullah','last_name':'hassan','age':16,'city':'karachi'}\n",
    "person_2 = {'first_name' : 'ali','last_name':'hassain','age':18,'city':'lahore'}\n",
    "person_3 = {'first_name' : 'hassam','last_name':'wahid','age':19,'city':'islamabad'}\n",
    "\n",
    "people = [person_1,person_2,person_3]\n",
    "\n",
    "for person in people :\n",
    "    print(person)\n",
    "    \n"
   ]
  },
  {
   "cell_type": "code",
   "execution_count": 41,
   "metadata": {},
   "outputs": [
    {
     "name": "stdout",
     "output_type": "stream",
     "text": [
      "Owner:\n",
      "Ali\n",
      "Pet:\n",
      "Parrot\n",
      "Owner:\n",
      "Abdullah\n",
      "Pet:\n",
      "Cat\n",
      "Owner:\n",
      "Ahmed\n",
      "Pet:\n",
      "Dog\n"
     ]
    }
   ],
   "source": [
    "# try it yourself 6-8 \n",
    "\n",
    "mena = {'owner':'ali','pet' : 'parrot' }\n",
    "mano = {'owner':'abdullah','pet' : 'cat' }\n",
    "jimmy = {'owner':'ahmed','pet' : 'dog' }\n",
    "\n",
    "pets = [mena, mano,jimmy]\n",
    " \n",
    "for pet in pets:\n",
    "    for key , value in pet.items():\n",
    "        print(key.title()+\":\")\n",
    "        print(value.title())"
   ]
  },
  {
   "cell_type": "code",
   "execution_count": 43,
   "metadata": {},
   "outputs": [
    {
     "name": "stdout",
     "output_type": "stream",
     "text": [
      "\n",
      "Sameer' s favorite places are:\n",
      "\n",
      "Marre\n",
      "Quetta\n",
      "\n",
      "Abdullah' s favorite places are:\n",
      "\n",
      "Islamabad\n",
      "Lahore\n",
      "\n",
      "Shariz' s favorite places are:\n",
      "\n",
      "Kashmir\n",
      "Kagan\n"
     ]
    }
   ],
   "source": [
    "# try it yourself 6-9\n",
    "\n",
    "favorite_places = {'sameer': ['marre','quetta'],'abdullah': ['islamabad','lahore'],'shariz':['kashmir','kagan']}\n",
    "\n",
    "for name , places in favorite_places.items():\n",
    "    print(\"\\n\" +name.title() + \"' s favorite places are:\\n\")\n",
    "    \n",
    "    for place in places:\n",
    "        print(place.title())"
   ]
  },
  {
   "cell_type": "code",
   "execution_count": 44,
   "metadata": {},
   "outputs": [
    {
     "name": "stdout",
     "output_type": "stream",
     "text": [
      "Abdullah's favorite numbers are: \n",
      "\n",
      "\t4\n",
      "\t5\n",
      "\t2\n",
      "Fahad's favorite numbers are: \n",
      "\n",
      "\t2\n",
      "\t9\n",
      "\t3\n",
      "Ahsan's favorite numbers are: \n",
      "\n",
      "\t6\n",
      "\t1\n",
      "\t7\n",
      "Ahmed's favorite numbers are: \n",
      "\n",
      "\t3\n",
      "\t8\n"
     ]
    }
   ],
   "source": [
    "# try it yourself 6-10\n",
    "\n",
    "favorite_numbers = {'abdullah':[4,5,2],'fahad':[2,9,3],'ahsan':[6,1,7],'ahmed':[3,8]}\n",
    "\n",
    "for name , numbers in favorite_numbers.items():\n",
    "        print(name.title() + \"'s favorite numbers are: \\n\") \n",
    "        \n",
    "        for number in numbers:\n",
    "            print(\"\\t\"+str(number))"
   ]
  },
  {
   "cell_type": "code",
   "execution_count": 47,
   "metadata": {},
   "outputs": [
    {
     "name": "stdout",
     "output_type": "stream",
     "text": [
      "\n",
      "City: Karachi\n",
      "\tCountry: Pakistan\n",
      "\tPopulation: 1800000\n",
      "\tFact: Is The World'S Largest Producer Of Handsewn Footballs.\n",
      "\n",
      "City: Dehli\n",
      "\tCountry: India\n",
      "\tPopulation: 13240000\n",
      "\tFact: India Is The Largest Democracy In The World.\n",
      "\n",
      "City: Riyadh\n",
      "\tCountry: Saudi Arabia\n",
      "\tPopulation: 32280000\n",
      "\tFact: Saudi Arabia Is The Largest Country In The World Without A River.\n"
     ]
    }
   ],
   "source": [
    "# try it yourself 6-11\n",
    "\n",
    "cities = {'karachi':{'country':'pakistan','population':1800000,'fact':\"is the world's largest producer of handsewn footballs.\"},\n",
    "                     'dehli':{'country':'india','population':13240000,'fact':\"India is the largest democracy in the world.\"},\n",
    "                    'riyadh':{'country':'saudi arabia','population':32280000 ,'fact':\"Saudi Arabia is the largest country in the world without a river.\"}\n",
    "                    }\n",
    "\n",
    "for city , city_info in cities.items():\n",
    "    \n",
    "    print(\"\\nCity: \"+city.title())\n",
    "    country = city_info['country']\n",
    "    population = city_info['population']\n",
    "    fact = city_info['fact']\n",
    "    \n",
    "    print(\"\\tCountry: \" + country.title())\n",
    "    print(\"\\tPopulation: \" +str(population))\n",
    "    print(\"\\tFact: \" + fact.title())\n",
    "\n",
    "                              "
   ]
  },
  {
   "cell_type": "code",
   "execution_count": null,
   "metadata": {
    "collapsed": true
   },
   "outputs": [],
   "source": []
  },
  {
   "cell_type": "code",
   "execution_count": null,
   "metadata": {
    "collapsed": true
   },
   "outputs": [],
   "source": []
  }
 ],
 "metadata": {
  "kernelspec": {
   "display_name": "Python 3",
   "language": "python",
   "name": "python3"
  },
  "language_info": {
   "codemirror_mode": {
    "name": "ipython",
    "version": 3
   },
   "file_extension": ".py",
   "mimetype": "text/x-python",
   "name": "python",
   "nbconvert_exporter": "python",
   "pygments_lexer": "ipython3",
   "version": "3.6.1"
  }
 },
 "nbformat": 4,
 "nbformat_minor": 2
}
